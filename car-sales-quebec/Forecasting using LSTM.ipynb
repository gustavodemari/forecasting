{
 "cells": [
  {
   "cell_type": "code",
   "execution_count": 1,
   "metadata": {
    "collapsed": false
   },
   "outputs": [],
   "source": [
    "import pandas as pd\n",
    "import numpy as np\n",
    "import matplotlib.pyplot as plt\n",
    "%matplotlib inline"
   ]
  },
  {
   "cell_type": "code",
   "execution_count": 2,
   "metadata": {
    "collapsed": true
   },
   "outputs": [],
   "source": [
    "# Loading data\n",
    "# Source: https://datamarket.com/data/set/22n4/monthly-car-sales-in-quebec-1960-1968#!ds=22n4&display=line\n",
    "data = pd.read_csv('monthly-car-sales-in-quebec-1960.csv', parse_dates=['Month'])"
   ]
  },
  {
   "cell_type": "code",
   "execution_count": 3,
   "metadata": {
    "collapsed": false
   },
   "outputs": [
    {
     "data": {
      "text/html": [
       "<div>\n",
       "<table border=\"1\" class=\"dataframe\">\n",
       "  <thead>\n",
       "    <tr style=\"text-align: right;\">\n",
       "      <th></th>\n",
       "      <th>Month</th>\n",
       "      <th>Monthly car sales in Quebec 1960-1968</th>\n",
       "    </tr>\n",
       "  </thead>\n",
       "  <tbody>\n",
       "    <tr>\n",
       "      <th>0</th>\n",
       "      <td>1960-01-01</td>\n",
       "      <td>6550</td>\n",
       "    </tr>\n",
       "    <tr>\n",
       "      <th>1</th>\n",
       "      <td>1960-02-01</td>\n",
       "      <td>8728</td>\n",
       "    </tr>\n",
       "    <tr>\n",
       "      <th>2</th>\n",
       "      <td>1960-03-01</td>\n",
       "      <td>12026</td>\n",
       "    </tr>\n",
       "    <tr>\n",
       "      <th>3</th>\n",
       "      <td>1960-04-01</td>\n",
       "      <td>14395</td>\n",
       "    </tr>\n",
       "    <tr>\n",
       "      <th>4</th>\n",
       "      <td>1960-05-01</td>\n",
       "      <td>14587</td>\n",
       "    </tr>\n",
       "  </tbody>\n",
       "</table>\n",
       "</div>"
      ],
      "text/plain": [
       "       Month  Monthly car sales in Quebec 1960-1968\n",
       "0 1960-01-01                                   6550\n",
       "1 1960-02-01                                   8728\n",
       "2 1960-03-01                                  12026\n",
       "3 1960-04-01                                  14395\n",
       "4 1960-05-01                                  14587"
      ]
     },
     "execution_count": 3,
     "metadata": {},
     "output_type": "execute_result"
    }
   ],
   "source": [
    "data.head()"
   ]
  },
  {
   "cell_type": "code",
   "execution_count": 4,
   "metadata": {
    "collapsed": false
   },
   "outputs": [
    {
     "name": "stdout",
     "output_type": "stream",
     "text": [
      "<class 'pandas.core.frame.DataFrame'>\n",
      "RangeIndex: 108 entries, 0 to 107\n",
      "Data columns (total 2 columns):\n",
      "Month                                    108 non-null datetime64[ns]\n",
      "Monthly car sales in Quebec 1960-1968    108 non-null int64\n",
      "dtypes: datetime64[ns](1), int64(1)\n",
      "memory usage: 1.8 KB\n"
     ]
    }
   ],
   "source": [
    "data.info()"
   ]
  },
  {
   "cell_type": "code",
   "execution_count": 5,
   "metadata": {
    "collapsed": false
   },
   "outputs": [],
   "source": [
    "import numpy as np\n",
    "\n",
    "def _load_data(data, n_prev = 100, n_next=10):  \n",
    "    \"\"\"\n",
    "    data should be pd.DataFrame()\n",
    "    \"\"\"\n",
    "\n",
    "    docX, docY = [], []\n",
    "    for i in range(len(data)-n_prev-n_next):\n",
    "        tempX = []\n",
    "        for j in range(i, i+n_prev):\n",
    "            tempX.append(data.iloc[j:j+n_prev].as_matrix())\n",
    "        docX.append(tempX)\n",
    "        docY.append(data.iloc[i+n_prev:(i+n_prev+n_next)].as_matrix())\n",
    "    alsX = np.array(docX)\n",
    "    alsY = np.array(docY)\n",
    "\n",
    "    return alsX, alsY"
   ]
  },
  {
   "cell_type": "code",
   "execution_count": 7,
   "metadata": {
    "collapsed": false
   },
   "outputs": [
    {
     "data": {
      "text/plain": [
       "array([ 6550,  8728, 12026, 14395, 14587])"
      ]
     },
     "execution_count": 7,
     "metadata": {},
     "output_type": "execute_result"
    }
   ],
   "source": [
    "data.iloc[0:5,1].as_matrix()"
   ]
  },
  {
   "cell_type": "code",
   "execution_count": 8,
   "metadata": {
    "collapsed": false
   },
   "outputs": [
    {
     "data": {
      "text/plain": [
       "array([ 8728, 12026, 14395, 14587, 13791])"
      ]
     },
     "execution_count": 8,
     "metadata": {},
     "output_type": "execute_result"
    }
   ],
   "source": [
    "data.iloc[1:6,1].as_matrix()"
   ]
  },
  {
   "cell_type": "code",
   "execution_count": 9,
   "metadata": {
    "collapsed": false
   },
   "outputs": [],
   "source": [
    "x_train, y_train = _load_data(data.iloc[0:50, 1], n_prev=5, n_next=8)"
   ]
  },
  {
   "cell_type": "code",
   "execution_count": 10,
   "metadata": {
    "collapsed": false
   },
   "outputs": [
    {
     "data": {
      "text/plain": [
       "array([[ 6550,  8728, 12026, 14395, 14587],\n",
       "       [ 8728, 12026, 14395, 14587, 13791],\n",
       "       [12026, 14395, 14587, 13791,  9498],\n",
       "       [14395, 14587, 13791,  9498,  8251],\n",
       "       [14587, 13791,  9498,  8251,  7049]])"
      ]
     },
     "execution_count": 10,
     "metadata": {},
     "output_type": "execute_result"
    }
   ],
   "source": [
    "x_train[0]"
   ]
  },
  {
   "cell_type": "code",
   "execution_count": 11,
   "metadata": {
    "collapsed": false
   },
   "outputs": [
    {
     "data": {
      "text/plain": [
       "array([13791,  9498,  8251,  7049,  9545,  9364,  8456,  7237])"
      ]
     },
     "execution_count": 11,
     "metadata": {},
     "output_type": "execute_result"
    }
   ],
   "source": [
    "y_train[0]"
   ]
  },
  {
   "cell_type": "code",
   "execution_count": 12,
   "metadata": {
    "collapsed": false
   },
   "outputs": [
    {
     "data": {
      "text/plain": [
       "(37, 5, 5)"
      ]
     },
     "execution_count": 12,
     "metadata": {},
     "output_type": "execute_result"
    }
   ],
   "source": [
    "x_train.shape"
   ]
  },
  {
   "cell_type": "code",
   "execution_count": 13,
   "metadata": {
    "collapsed": false
   },
   "outputs": [
    {
     "name": "stdout",
     "output_type": "stream",
     "text": [
      "5\n"
     ]
    }
   ],
   "source": [
    "timesteps = x_train.shape[1]\n",
    "print(timesteps)"
   ]
  },
  {
   "cell_type": "code",
   "execution_count": 14,
   "metadata": {
    "collapsed": false
   },
   "outputs": [
    {
     "name": "stdout",
     "output_type": "stream",
     "text": [
      "5\n"
     ]
    }
   ],
   "source": [
    "input_dim = x_train.shape[2]\n",
    "print(input_dim)"
   ]
  },
  {
   "cell_type": "code",
   "execution_count": 15,
   "metadata": {
    "collapsed": false
   },
   "outputs": [
    {
     "name": "stdout",
     "output_type": "stream",
     "text": [
      "8\n"
     ]
    }
   ],
   "source": [
    "output_dim = y_train[0].shape[0]\n",
    "print(output_dim)"
   ]
  },
  {
   "cell_type": "code",
   "execution_count": 16,
   "metadata": {
    "collapsed": false
   },
   "outputs": [
    {
     "name": "stdout",
     "output_type": "stream",
     "text": [
      "Couldn't import dot_parser, loading of dot files will not be possible.\n"
     ]
    },
    {
     "name": "stderr",
     "output_type": "stream",
     "text": [
      "Using Theano backend.\n"
     ]
    }
   ],
   "source": [
    "from keras.models import Sequential\n",
    "from keras.layers.core import Dense, Activation, Dropout\n",
    "from keras.layers.recurrent import LSTM"
   ]
  },
  {
   "cell_type": "code",
   "execution_count": 17,
   "metadata": {
    "collapsed": false
   },
   "outputs": [],
   "source": [
    "model = Sequential()\n",
    "model.add(LSTM(32, input_dim=input_dim, input_length=5))\n",
    "model.add(Dense(output_dim, activation='linear'))\n",
    "model.compile(loss=\"mape\", optimizer=\"rmsprop\")"
   ]
  },
  {
   "cell_type": "code",
   "execution_count": 18,
   "metadata": {
    "collapsed": false
   },
   "outputs": [
    {
     "name": "stdout",
     "output_type": "stream",
     "text": [
      "____________________________________________________________________________________________________\n",
      "Layer (type)                       Output Shape        Param #     Connected to                     \n",
      "====================================================================================================\n",
      "lstm_1 (LSTM)                      (None, 32)          4864        lstm_input_1[0][0]               \n",
      "____________________________________________________________________________________________________\n",
      "dense_1 (Dense)                    (None, 8)           264         lstm_1[0][0]                     \n",
      "====================================================================================================\n",
      "Total params: 5128\n",
      "____________________________________________________________________________________________________\n"
     ]
    }
   ],
   "source": [
    "model.summary()"
   ]
  },
  {
   "cell_type": "code",
   "execution_count": 19,
   "metadata": {
    "collapsed": false
   },
   "outputs": [
    {
     "name": "stdout",
     "output_type": "stream",
     "text": [
      "Epoch 1/5\n",
      "37/37 [==============================] - 0s - loss: 100.0003     \n",
      "Epoch 2/5\n",
      "37/37 [==============================] - 0s - loss: 100.0000     \n",
      "Epoch 3/5\n",
      "37/37 [==============================] - 0s - loss: 99.9997     \n",
      "Epoch 4/5\n",
      "37/37 [==============================] - 0s - loss: 99.9994     \n",
      "Epoch 5/5\n",
      "37/37 [==============================] - 0s - loss: 99.9992     \n"
     ]
    },
    {
     "data": {
      "text/plain": [
       "<keras.callbacks.History at 0x7f48c0338750>"
      ]
     },
     "execution_count": 19,
     "metadata": {},
     "output_type": "execute_result"
    }
   ],
   "source": [
    "model.fit(x_train, y_train, nb_epoch=5, batch_size=8)"
   ]
  },
  {
   "cell_type": "code",
   "execution_count": 20,
   "metadata": {
    "collapsed": false
   },
   "outputs": [
    {
     "data": {
      "text/plain": [
       "array([[ 0.11712162, -0.48571977,  0.58643478,  0.1164617 , -0.18161909,\n",
       "         0.45726925,  0.03889584, -0.367809  ],\n",
       "       [-0.27000713, -0.84849876,  0.63157535,  0.51785374, -0.44024512,\n",
       "        -0.17866416, -0.09397411,  0.21827167],\n",
       "       [-0.10837086, -0.80017161,  0.20819131,  0.96423542,  0.01950997,\n",
       "         0.28751105, -0.03626382,  0.24507242],\n",
       "       [-0.30451652, -0.32028016,  0.36071655,  0.54119694,  0.03262214,\n",
       "         0.06027609, -0.26910731,  0.05963045],\n",
       "       [ 0.39862925, -0.20182021,  0.35729936,  0.55839884,  0.39901626,\n",
       "         0.77716351,  0.34227547, -0.10954768],\n",
       "       [ 0.17151849, -1.01177728, -0.02458557,  1.12216878,  0.08681688,\n",
       "         0.55826885, -0.05995087,  0.19605573],\n",
       "       [ 0.38763732, -0.66149116, -0.14486244,  0.84149921,  0.25340068,\n",
       "         0.68239921, -0.33557019, -0.07793035],\n",
       "       [ 0.38784319, -0.81460226, -0.04641556,  1.03416336,  0.17304218,\n",
       "         0.40459326, -0.43189093, -0.03402402],\n",
       "       [ 0.64973801, -1.01984251,  0.06488854,  0.96018851,  0.02157383,\n",
       "         0.47849822, -0.22854123,  0.00280285],\n",
       "       [ 0.40834048, -0.87797129, -0.14692648,  0.88004899,  0.18620023,\n",
       "         0.47526741, -0.5139786 , -0.22734477],\n",
       "       [ 0.41874155, -0.94706571,  0.23661739,  1.26801443,  0.1924713 ,\n",
       "         0.33785042,  0.0511981 ,  0.26320654],\n",
       "       [ 1.08275926, -0.6281625 ,  0.48890072,  0.62330508,  0.3906233 ,\n",
       "         0.93212152,  0.14166206, -0.41673952],\n",
       "       [-0.28350484, -0.81776196,  0.70298952,  0.58772063, -0.39619055,\n",
       "        -0.09808526, -0.05702328,  0.18225199],\n",
       "       [-0.28561357, -0.81319374,  0.71406847,  0.59863806, -0.38963962,\n",
       "        -0.08583448, -0.05125833,  0.17696404],\n",
       "       [ 0.05250652, -0.59458733,  0.18018338,  0.66011882,  0.03023931,\n",
       "         0.09878114, -0.52983642, -0.16120803],\n",
       "       [-0.05819115, -0.57402265,  0.52022535,  0.53900689, -0.18956219,\n",
       "         0.0977025 , -0.03018903,  0.17797321],\n",
       "       [-0.02576871, -0.53186637,  0.12640408,  0.69991553,  0.09994284,\n",
       "         0.33083615, -0.29274294,  0.01122438],\n",
       "       [ 0.57185048, -0.68078774, -0.14015833,  0.65244931,  0.29990423,\n",
       "         1.11288905,  0.0367163 , -0.3522886 ],\n",
       "       [ 0.36859742, -0.73630518, -0.19150847,  0.83032906,  0.21035042,\n",
       "         0.69781083, -0.39274403, -0.11979785],\n",
       "       [ 0.33500582, -0.66810566, -0.12609297,  0.99177003,  0.26765442,\n",
       "         0.65001267, -0.27490464,  0.06573036],\n",
       "       [ 0.40356749, -0.76610273, -0.09441186,  0.96227205,  0.24375629,\n",
       "         0.44109866, -0.4674665 , -0.11562275],\n",
       "       [ 1.04120469, -0.85057592, -0.05627843,  0.48093715,  0.10681501,\n",
       "         1.03255916, -0.14297448, -0.5761376 ],\n",
       "       [ 0.41711992, -0.94571877,  0.23831835,  1.26689506,  0.19204158,\n",
       "         0.3361533 ,  0.05134116,  0.26343071],\n",
       "       [ 0.77998847, -0.64163089,  0.38121873,  0.49918309,  0.11912075,\n",
       "         0.93296444,  0.27372059, -0.26961273],\n",
       "       [ 0.11475831, -0.48206124,  0.59836251,  0.12870969, -0.17635091,\n",
       "         0.46888512,  0.04530736, -0.37161314],\n",
       "       [ 0.27155703, -1.23585975,  0.24708472,  0.91775942, -0.25426927,\n",
       "         0.45688742, -0.09764796,  0.07962427],\n",
       "       [ 0.12926322, -1.11450601, -0.19112545,  0.99166584, -0.15141213,\n",
       "         0.62859952,  0.08607676,  0.36459768],\n",
       "       [ 0.59434605, -0.95596558,  0.0956012 ,  0.87982017, -0.05852907,\n",
       "         0.59280097, -0.04956203,  0.19762513],\n",
       "       [ 0.43646744, -0.52134699,  0.10311764,  0.97078753,  0.35694918,\n",
       "         0.60646731, -0.04360103,  0.1512768 ],\n",
       "       [ 0.25667942, -1.07408881, -0.09722397,  1.17104518,  0.1095447 ,\n",
       "         0.64136934, -0.06800266,  0.18142249],\n",
       "       [ 0.36355281, -0.72507209, -0.20604682,  0.82549953,  0.21378823,\n",
       "         0.69806808, -0.4028444 , -0.12465043],\n",
       "       [ 0.38784319, -0.81460226, -0.04641556,  1.03416336,  0.17304218,\n",
       "         0.40459326, -0.43189093, -0.03402402],\n",
       "       [ 0.59575897, -0.8733263 , -0.01632446,  0.91858053,  0.1161999 ,\n",
       "         0.72371989, -0.07150364,  0.10316787],\n",
       "       [ 0.60068685, -0.98519754, -0.06863073,  0.8362509 ,  0.05864196,\n",
       "         0.7579155 , -0.11802267, -0.00863698],\n",
       "       [ 0.77904218, -0.41971084, -0.00667196,  0.68378276,  0.57047099,\n",
       "         1.17247343,  0.26947734, -0.26606447],\n",
       "       [ 0.17073165, -0.06401633,  0.76123661,  0.12854603,  0.09028097,\n",
       "         0.6425963 ,  0.47239688, -0.085361  ],\n",
       "       [ 0.06107383, -0.33449242,  0.51616752,  0.08556226, -0.08024072,\n",
       "         0.71484125,  0.20159696, -0.27296469]])"
      ]
     },
     "execution_count": 20,
     "metadata": {},
     "output_type": "execute_result"
    }
   ],
   "source": [
    "model.predict(x_train, batch_size=8)"
   ]
  },
  {
   "cell_type": "code",
   "execution_count": 22,
   "metadata": {
    "collapsed": false
   },
   "outputs": [
    {
     "data": {
      "text/plain": [
       "array([[13791,  9498,  8251,  7049,  9545,  9364,  8456,  7237],\n",
       "       [ 9498,  8251,  7049,  9545,  9364,  8456,  7237,  9374],\n",
       "       [ 8251,  7049,  9545,  9364,  8456,  7237,  9374, 11837],\n",
       "       [ 7049,  9545,  9364,  8456,  7237,  9374, 11837, 13784],\n",
       "       [ 9545,  9364,  8456,  7237,  9374, 11837, 13784, 15926],\n",
       "       [ 9364,  8456,  7237,  9374, 11837, 13784, 15926, 13821],\n",
       "       [ 8456,  7237,  9374, 11837, 13784, 15926, 13821, 11143],\n",
       "       [ 7237,  9374, 11837, 13784, 15926, 13821, 11143,  7975],\n",
       "       [ 9374, 11837, 13784, 15926, 13821, 11143,  7975,  7610],\n",
       "       [11837, 13784, 15926, 13821, 11143,  7975,  7610, 10015],\n",
       "       [13784, 15926, 13821, 11143,  7975,  7610, 10015, 12759],\n",
       "       [15926, 13821, 11143,  7975,  7610, 10015, 12759,  8816],\n",
       "       [13821, 11143,  7975,  7610, 10015, 12759,  8816, 10677],\n",
       "       [11143,  7975,  7610, 10015, 12759,  8816, 10677, 10947],\n",
       "       [ 7975,  7610, 10015, 12759,  8816, 10677, 10947, 15200],\n",
       "       [ 7610, 10015, 12759,  8816, 10677, 10947, 15200, 17010],\n",
       "       [10015, 12759,  8816, 10677, 10947, 15200, 17010, 20900],\n",
       "       [12759,  8816, 10677, 10947, 15200, 17010, 20900, 16205],\n",
       "       [ 8816, 10677, 10947, 15200, 17010, 20900, 16205, 12143],\n",
       "       [10677, 10947, 15200, 17010, 20900, 16205, 12143,  8997],\n",
       "       [10947, 15200, 17010, 20900, 16205, 12143,  8997,  5568],\n",
       "       [15200, 17010, 20900, 16205, 12143,  8997,  5568, 11474],\n",
       "       [17010, 20900, 16205, 12143,  8997,  5568, 11474, 12256],\n",
       "       [20900, 16205, 12143,  8997,  5568, 11474, 12256, 10583],\n",
       "       [16205, 12143,  8997,  5568, 11474, 12256, 10583, 10862],\n",
       "       [12143,  8997,  5568, 11474, 12256, 10583, 10862, 10965],\n",
       "       [ 8997,  5568, 11474, 12256, 10583, 10862, 10965, 14405],\n",
       "       [ 5568, 11474, 12256, 10583, 10862, 10965, 14405, 20379],\n",
       "       [11474, 12256, 10583, 10862, 10965, 14405, 20379, 20128],\n",
       "       [12256, 10583, 10862, 10965, 14405, 20379, 20128, 17816],\n",
       "       [10583, 10862, 10965, 14405, 20379, 20128, 17816, 12268],\n",
       "       [10862, 10965, 14405, 20379, 20128, 17816, 12268,  8642],\n",
       "       [10965, 14405, 20379, 20128, 17816, 12268,  8642,  7962],\n",
       "       [14405, 20379, 20128, 17816, 12268,  8642,  7962, 13932],\n",
       "       [20379, 20128, 17816, 12268,  8642,  7962, 13932, 15936],\n",
       "       [20128, 17816, 12268,  8642,  7962, 13932, 15936, 12628],\n",
       "       [17816, 12268,  8642,  7962, 13932, 15936, 12628, 12267]])"
      ]
     },
     "execution_count": 22,
     "metadata": {},
     "output_type": "execute_result"
    }
   ],
   "source": [
    "y_train"
   ]
  }
 ],
 "metadata": {
  "kernelspec": {
   "display_name": "Python 2",
   "language": "python",
   "name": "python2"
  },
  "language_info": {
   "codemirror_mode": {
    "name": "ipython",
    "version": 2
   },
   "file_extension": ".py",
   "mimetype": "text/x-python",
   "name": "python",
   "nbconvert_exporter": "python",
   "pygments_lexer": "ipython2",
   "version": "2.7.6"
  }
 },
 "nbformat": 4,
 "nbformat_minor": 0
}
